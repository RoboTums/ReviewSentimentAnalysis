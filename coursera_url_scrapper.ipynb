{
 "cells": [
  {
   "cell_type": "code",
   "execution_count": 125,
   "metadata": {},
   "outputs": [],
   "source": [
    "from selenium import webdriver\n",
    "import time"
   ]
  },
  {
   "cell_type": "code",
   "execution_count": 130,
   "metadata": {},
   "outputs": [],
   "source": [
    "driver = webdriver.Chrome(\"/Users/dafirebanks/chromedriver\")"
   ]
  },
  {
   "cell_type": "code",
   "execution_count": 132,
   "metadata": {},
   "outputs": [],
   "source": [
    "# Data science sample link\n",
    "sample_link = \"https://www.coursera.org/courses?query=&refinementList%5Btopic%5D%5B0%5D=Data%20Science&page=1&configure%5BclickAnalytics%5D=true&indices%5Btest_suggestions%5D%5Bconfigure%5D%5BclickAnalytics%5D=true&indices%5Btest_suggestions%5D%5Bconfigure%5D%5BhitsPerPage%5D=7&indices%5Btest_careers%5D%5Bconfigure%5D%5BclickAnalytics%5D=true&indices%5Btest_careers%5D%5Bconfigure%5D%5BhitsPerPage%5D=1&indices%5Btest_degrees_keyword_only%5D%5Bconfigure%5D%5BclickAnalytics%5D=true&indices%5Btest_degrees_keyword_only%5D%5Bconfigure%5D%5BhitsPerPage%5D=4&indices%5Btest_products%5D%5Bconfigure%5D%5BclickAnalytics%5D=true\"\n",
    "driver.get(sample_link)"
   ]
  },
  {
   "cell_type": "code",
   "execution_count": 133,
   "metadata": {},
   "outputs": [
    {
     "name": "stdout",
     "output_type": "stream",
     "text": [
      "Message: no such window: window was already closed\n",
      "  (Session info: chrome=71.0.3578.98)\n",
      "  (Driver info: chromedriver=2.45.615355 (d5698f682d8b2742017df6c81e0bd8e6a3063189),platform=Mac OS X 10.14.2 x86_64)\n",
      "\n",
      "Got to the end!\n"
     ]
    }
   ],
   "source": [
    "# Click button of \"show more\" until we have seen all results, but click on the one that is courses/specializations and not the degrees one\n",
    "while True:\n",
    "    try:\n",
    "        button = driver.find_element_by_xpath(\"//button[@class='ais-InfiniteHits-loadMore']\")\n",
    "        button.click()\n",
    "        time.sleep(2)\n",
    "    except Exception as e:\n",
    "        print(e)\n",
    "        print(\"Got to the end!\")\n",
    "        break\n",
    "         "
   ]
  },
  {
   "cell_type": "code",
   "execution_count": 115,
   "metadata": {},
   "outputs": [],
   "source": [
    "# Get all course links\n",
    "results = driver.find_elements_by_xpath(\"//li[@class='ais-InfiniteHits-item']//a\")\n",
    "links = [result.get_attribute(\"href\") for result in results if \"/learn/\" in result.get_attribute(\"href\")]"
   ]
  },
  {
   "cell_type": "code",
   "execution_count": 128,
   "metadata": {},
   "outputs": [
    {
     "data": {
      "text/plain": [
       "305"
      ]
     },
     "execution_count": 128,
     "metadata": {},
     "output_type": "execute_result"
    }
   ],
   "source": [
    "len(links)"
   ]
  },
  {
   "cell_type": "code",
   "execution_count": 129,
   "metadata": {},
   "outputs": [
    {
     "data": {
      "text/plain": [
       "['https://www.coursera.org/learn/machine-learning',\n",
       " 'https://www.coursera.org/learn/neural-networks-deep-learning',\n",
       " 'https://www.coursera.org/learn/convolutional-neural-networks',\n",
       " 'https://www.coursera.org/learn/deep-neural-network',\n",
       " 'https://www.coursera.org/learn/python-data-analysis',\n",
       " 'https://www.coursera.org/learn/nlp-sequence-models',\n",
       " 'https://www.coursera.org/learn/r-programming',\n",
       " 'https://www.coursera.org/learn/what-is-datascience',\n",
       " 'https://www.coursera.org/learn/machine-learning-projects',\n",
       " 'https://www.coursera.org/learn/data-scientists-tools',\n",
       " 'https://www.coursera.org/learn/linear-algebra-machine-learning',\n",
       " 'https://www.coursera.org/learn/sql-for-data-science',\n",
       " 'https://www.coursera.org/learn/ml-foundations',\n",
       " 'https://www.coursera.org/learn/python-for-applied-data-science',\n",
       " 'https://www.coursera.org/learn/neural-networks',\n",
       " 'https://www.coursera.org/learn/open-source-tools-for-data-science',\n",
       " 'https://www.coursera.org/learn/python-machine-learning',\n",
       " 'https://www.coursera.org/learn/gcp-big-data-ml-fundamentals',\n",
       " 'https://www.coursera.org/learn/probability-intro',\n",
       " 'https://www.coursera.org/learn/sql-data-science',\n",
       " 'https://www.coursera.org/learn/data-analysis-with-python',\n",
       " 'https://www.coursera.org/learn/machine-learning-with-python',\n",
       " 'https://www.coursera.org/learn/basic-statistics',\n",
       " 'https://www.coursera.org/learn/data-science-methodology',\n",
       " 'https://www.coursera.org/learn/big-data-introduction',\n",
       " 'https://www.coursera.org/learn/excel-aplicado-negocios-avanzado',\n",
       " 'https://www.coursera.org/learn/intro-to-deep-learning',\n",
       " 'https://www.coursera.org/learn/competitive-data-science',\n",
       " 'https://www.coursera.org/learn/google-machine-learning',\n",
       " 'https://www.coursera.org/learn/ml-regression',\n",
       " 'https://www.coursera.org/learn/language-processing',\n",
       " 'https://www.coursera.org/learn/excel-para-negocios',\n",
       " 'https://www.coursera.org/learn/mathematics-and-python',\n",
       " 'https://www.coursera.org/learn/intro-data-science-programacion-estadistica-r',\n",
       " 'https://www.coursera.org/learn/decision-making',\n",
       " 'https://www.coursera.org/learn/vvedenie-mashinnoe-obuchenie',\n",
       " 'https://www.coursera.org/learn/python-plotting',\n",
       " 'https://www.coursera.org/learn/ml-classification',\n",
       " 'https://www.coursera.org/learn/data-cleaning',\n",
       " 'https://www.coursera.org/learn/analytics-excel',\n",
       " 'https://www.coursera.org/learn/data-visualization-tableau',\n",
       " 'https://www.coursera.org/learn/python-data-visualization',\n",
       " 'https://www.coursera.org/learn/excel-data-analysis',\n",
       " 'https://www.coursera.org/learn/python-text-mining',\n",
       " 'https://www.coursera.org/learn/python-for-data-visualization',\n",
       " 'https://www.coursera.org/learn/analytics-business-metrics',\n",
       " 'https://www.coursera.org/learn/excel-analysis',\n",
       " 'https://www.coursera.org/learn/bayesian-statistics',\n",
       " 'https://www.coursera.org/learn/analytics-tableau',\n",
       " 'https://www.coursera.org/learn/ml-clustering-and-retrieval',\n",
       " 'https://www.coursera.org/learn/erasmus-econometrics',\n",
       " 'https://www.coursera.org/learn/exploratory-data-analysis',\n",
       " 'https://www.coursera.org/learn/bayesian-methods-in-machine-learning',\n",
       " 'https://www.coursera.org/learn/probabilistic-graphical-models',\n",
       " 'https://www.coursera.org/learn/statistical-inference',\n",
       " 'https://www.coursera.org/learn/end-to-end-ml-tensorflow-gcp',\n",
       " 'https://www.coursera.org/learn/data-science-course',\n",
       " 'https://www.coursera.org/learn/ds',\n",
       " 'https://www.coursera.org/learn/leveraging-unstructured-data-dataproc-gcp',\n",
       " 'https://www.coursera.org/learn/practical-rl',\n",
       " 'https://www.coursera.org/learn/practical-time-series-analysis',\n",
       " 'https://www.coursera.org/learn/ai',\n",
       " 'https://www.coursera.org/learn/practical-machine-learning',\n",
       " 'https://www.coursera.org/learn/analytics-mysql',\n",
       " 'https://www.coursera.org/learn/inferential-statistics-intro',\n",
       " 'https://www.coursera.org/learn/computational-neuroscience',\n",
       " 'https://www.coursera.org/learn/supervised-learning',\n",
       " 'https://www.coursera.org/learn/sas-programming-basics',\n",
       " 'https://www.coursera.org/learn/serverless-machine-learning-gcp',\n",
       " 'https://www.coursera.org/learn/understanding-visualization-data',\n",
       " 'https://www.coursera.org/learn/regression-models',\n",
       " 'https://www.coursera.org/learn/pca-machine-learning',\n",
       " 'https://www.coursera.org/learn/intro-tensorflow',\n",
       " 'https://www.coursera.org/learn/guided-tour-machine-learning-finance',\n",
       " 'https://www.coursera.org/learn/applied-data-science-capstone',\n",
       " 'https://www.coursera.org/learn/statistical-inferences',\n",
       " 'https://www.coursera.org/learn/hadoop',\n",
       " 'https://www.coursera.org/learn/ntumlone-mathematicalfoundations',\n",
       " 'https://www.coursera.org/learn/advanced-excel',\n",
       " 'https://www.coursera.org/learn/building-resilient-streaming-systems-gcp',\n",
       " 'https://www.coursera.org/learn/advanced-machine-learning-signal-processing',\n",
       " 'https://www.coursera.org/learn/datavisualization',\n",
       " 'https://www.coursera.org/learn/launching-machine-learning',\n",
       " 'https://www.coursera.org/learn/data-analytics-business',\n",
       " 'https://www.coursera.org/learn/process-mining',\n",
       " 'https://www.coursera.org/learn/big-data-management',\n",
       " 'https://www.coursera.org/learn/introduction-genomics',\n",
       " 'https://www.coursera.org/learn/bayesian',\n",
       " 'https://www.coursera.org/learn/unix',\n",
       " 'https://www.coursera.org/learn/machine-learning-duke',\n",
       " 'https://www.coursera.org/learn/feature-engineering',\n",
       " 'https://www.coursera.org/learn/python-social-network-analysis',\n",
       " 'https://www.coursera.org/learn/big-data-analysis',\n",
       " 'https://www.coursera.org/learn/reproducible-research',\n",
       " 'https://www.coursera.org/learn/linear-regression-model',\n",
       " 'https://www.coursera.org/learn/estadistica-aplicada-negocios',\n",
       " 'https://www.coursera.org/learn/text-mining',\n",
       " 'https://www.coursera.org/learn/dataviz-design',\n",
       " 'https://www.coursera.org/learn/crash-course-in-causality',\n",
       " 'https://www.coursera.org/learn/probability-statistics']"
      ]
     },
     "execution_count": 129,
     "metadata": {},
     "output_type": "execute_result"
    }
   ],
   "source": [
    "links[:100]"
   ]
  },
  {
   "cell_type": "code",
   "execution_count": 135,
   "metadata": {},
   "outputs": [],
   "source": [
    "with open(\"test_urls.txt\", \"w\") as file:\n",
    "    for link in links:\n",
    "        file.write(link + \"\\n\")"
   ]
  },
  {
   "cell_type": "code",
   "execution_count": null,
   "metadata": {},
   "outputs": [],
   "source": []
  }
 ],
 "metadata": {
  "kernelspec": {
   "display_name": "Python 3",
   "language": "python",
   "name": "python3"
  },
  "language_info": {
   "codemirror_mode": {
    "name": "ipython",
    "version": 3
   },
   "file_extension": ".py",
   "mimetype": "text/x-python",
   "name": "python",
   "nbconvert_exporter": "python",
   "pygments_lexer": "ipython3",
   "version": "3.6.5"
  }
 },
 "nbformat": 4,
 "nbformat_minor": 2
}
