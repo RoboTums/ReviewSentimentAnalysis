{
 "cells": [
  {
   "cell_type": "code",
   "execution_count": 110,
   "metadata": {},
   "outputs": [],
   "source": [
    "import pandas as pd\n",
    "import requests\n",
    "from bs4 import BeautifulSoup\n",
    "from urllib.request import urlopen as u_req \n",
    "import re\n",
    "from selenium import webdriver\n",
    "import pandas as pd"
   ]
  },
  {
   "cell_type": "code",
   "execution_count": null,
   "metadata": {},
   "outputs": [],
   "source": [
    "driver = webdriver.Chrome(\"/Users/dafirebanks/chromedriver\")"
   ]
  },
  {
   "cell_type": "markdown",
   "metadata": {},
   "source": [
    "# Code to extract reviews from one course\n",
    "---------------------------------------------------------------------------"
   ]
  },
  {
   "cell_type": "code",
   "execution_count": 109,
   "metadata": {},
   "outputs": [],
   "source": [
    "class Course:\n",
    "    def __init__(self, name=None, score=None, total_reviews=None, total_ratings=None, description=None, institution=None, url=None):\n",
    "        self.name = name\n",
    "        self.score = score\n",
    "        self.description = description\n",
    "        self.institution = institution\n",
    "        self.url = url\n",
    "        self.total_ratings = total_ratings\n",
    "        \n",
    "        # Total reviews that the course has\n",
    "        self.total_reviews = total_reviews  \n",
    "        # {Number of stars: List of all reviews with those stars}\n",
    "        self.reviews = dict()\n",
    "        # Number of reviews we have\n",
    "        self.num_reviews = 0  \n",
    "    \n",
    "    def add_reviews(self, reviews):\n",
    "        \"\"\"Takes in a list of reviews and updates the review dictionary for the course\"\"\"\n",
    "        \n",
    "        for review in reviews:\n",
    "            if str(review.stars) not in self.reviews:\n",
    "                self.reviews[str(review.stars)] = [review] \n",
    "            else:\n",
    "                self.reviews[str(review.stars)].append(review)\n",
    "\n",
    "            self.num_reviews += 1\n",
    "    \n",
    "    def get_info(self):\n",
    "        return self.__str__()\n",
    "    \n",
    "    def __str__(self):\n",
    "        course_string = f\"Name: {self.name} \\\n",
    "        \\nScore: {self.score} \\\n",
    "        \\nInstitution: {self.institution} \\\n",
    "        \\nDescription: '{self.description}' \\\n",
    "        \\nTotal Ratings: {self.total_ratings} \\\n",
    "        \\nTotal Reviews: {self.total_reviews} \\\n",
    "        \\nNumber of Reviews Extracted: {self.num_reviews} \\n\"\n",
    "        return course_string\n",
    "    \n",
    "    def build_df(self):\n",
    "        pass\n",
    "    \n",
    "    def get_attrs(self):\n",
    "        pass\n",
    "    \n",
    "    def get_reviews(self, num_pages=20):\n",
    "        pass\n",
    "    \n",
    "    def export_df(self):\n",
    "        pass\n",
    "    \n",
    "class Review:\n",
    "    def __init__(self, stars, text, date):\n",
    "        self.stars = stars\n",
    "        self.text = text\n",
    "        self.date = date\n",
    "    \n",
    "    def __str__(self):\n",
    "        rev_string = f\"Number of Stars: {self.stars} \\\n",
    "        \\nDate of Review: {self.date} \\\n",
    "        \\nText of Review: '{self.text}'\\n\"\n",
    "        return rev_string"
   ]
  },
  {
   "cell_type": "markdown",
   "metadata": {},
   "source": [
    "## Selenium test code\n",
    "__________________"
   ]
  },
  {
   "cell_type": "code",
   "execution_count": 88,
   "metadata": {},
   "outputs": [],
   "source": [
    "driver.get(\"https://www.coursera.org/learn/machine-learning/reviews\")"
   ]
  },
  {
   "cell_type": "code",
   "execution_count": 89,
   "metadata": {},
   "outputs": [],
   "source": [
    "from selenium.webdriver.support.ui import WebDriverWait\n",
    "from selenium.webdriver.support import expected_conditions as EC\n",
    "from selenium.webdriver.common.by import By\n",
    "import time"
   ]
  },
  {
   "cell_type": "code",
   "execution_count": 102,
   "metadata": {},
   "outputs": [],
   "source": [
    "# DOESN'T WORK FOR NOW -> Attempts of clicking on the filter button to get reviews from different stars\n",
    "def click_stars(num_stars=2):\n",
    "    \"\"\"Given a number of stars, click the drop down button that gets all the stars\"\"\"\n",
    "    try:\n",
    "        # Drop down menu -> I simply copied xpath from chrome, I hope its right for every course page lol\n",
    "        menu_path = \"//*[@id='root']/div[1]/div/div[4]/div[1]/div[1]/div[3]/button\"\n",
    "        driver.find_element_by_xpath(menu_path).click()\n",
    "        \n",
    "        # 2 stars\n",
    "        star_path = \"/html/body/div[14]/div/div/div/div/ul/li[3]\"\n",
    "        WebDriverWait(driver, 10).until(EC.element_to_be_clickable((By.XPATH, star_path)))\n",
    "        driver.find_element_by_xpath(star_path).click()\n",
    "        \n",
    "    except Exception as e:\n",
    "        print(\"Exception is\", e)\n",
    "\n",
    "# THIS WORKS :) -> Get reviews through greedily iterating each page of results without filter\n",
    "def click_next_page(page_num):\n",
    "    \"\"\"Click the next page of results, return resulting html\"\"\"\n",
    "    button_path = \"//*[@id='root']/div[1]/div/div[4]/nav/ul/li[13]/button\"\n",
    "    driver.find_element_by_xpath(button_path).click()\n",
    "    print(f\"Loading page {page_num}...\")\n",
    "    \n",
    "    try:\n",
    "        WebDriverWait(driver, 45).until(EC.visibility_of_element_located((By.XPATH, \"//*[@id='root']/div[1]/div/div[4]/div[2]/p/span\"))) # Wait until the results load, this should be adjusted depending on the internet speed\n",
    "        print(\"Got it!\")\n",
    "        print()\n",
    "        \n",
    "    except:\n",
    "        print(f\"Result page {page_num} did not load, moving on to the next one...\")\n",
    "    \n",
    "    return driver.page_source\n"
   ]
  },
  {
   "cell_type": "code",
   "execution_count": 101,
   "metadata": {},
   "outputs": [],
   "source": [
    "all_reviews = []\n",
    "\n",
    "def extract_review(page_link):\n",
    "    soup = BeautifulSoup(page_link, \"lxml\")\n",
    "    \n",
    "    # Get the wrapper of all the the reviews from that page\n",
    "    results = list(soup.find_all(\"div\", attrs={\"class\":\"review\"}))\n",
    "    \n",
    "    # Iterate through results in one page and create list of review objects \n",
    "    review_list = []\n",
    "\n",
    "    for result in results:\n",
    "        rev_wrap = result.contents[0]\n",
    "        rev_text = rev_wrap.find_all(\"div\", attrs={\"class\":\"reviewText\"})[0].text\n",
    "        rev_date = rev_wrap.find_all(\"p\", attrs={\"class\":\"dateOfReview\"})[0].text\n",
    "\n",
    "        rev_stars_wrap = rev_wrap.find_all(\"label\")\n",
    "        rev_stars = 0\n",
    "        for tag in rev_stars_wrap:\n",
    "            if \"Filled Star\" in tag.text:\n",
    "                rev_stars += 1\n",
    "\n",
    "        review_list.append(Review(rev_stars, rev_text, rev_date))\n",
    "    \n",
    "    return review_list\n"
   ]
  },
  {
   "cell_type": "code",
   "execution_count": 103,
   "metadata": {},
   "outputs": [
    {
     "name": "stdout",
     "output_type": "stream",
     "text": [
      "Loading page 2...\n",
      "Got it!\n",
      "\n",
      "Loading page 3...\n",
      "Got it!\n",
      "\n",
      "Loading page 4...\n",
      "Got it!\n",
      "\n",
      "Loading page 5...\n",
      "Got it!\n",
      "\n",
      "Loading page 6...\n",
      "Got it!\n",
      "\n",
      "Loading page 7...\n",
      "Got it!\n",
      "\n",
      "Loading page 8...\n",
      "Got it!\n",
      "\n",
      "Loading page 9...\n",
      "Got it!\n",
      "\n",
      "Loading page 10...\n",
      "Got it!\n",
      "\n",
      "Loading page 11...\n",
      "Got it!\n",
      "\n"
     ]
    }
   ],
   "source": [
    "# Get the first page\n",
    "all_reviews.extend(extract_review(driver.page_source))\n",
    "pnum = 1\n",
    "\n",
    "#Get all the rest\n",
    "for i in range(10):\n",
    "    pnum += 1\n",
    "    all_reviews.extend(extract_review(click_next_page(pnum)))"
   ]
  },
  {
   "cell_type": "code",
   "execution_count": 106,
   "metadata": {},
   "outputs": [
    {
     "name": "stdout",
     "output_type": "stream",
     "text": [
      "110\n",
      "Number of Stars: 5         \n",
      "Date of Review: Jan 15, 2019         \n",
      "Text of Review: 'Enlightening.'\n",
      "\n",
      "Number of Stars: 5         \n",
      "Date of Review: Jan 15, 2019         \n",
      "Text of Review: 'Excellent materials & well taught!'\n",
      "\n",
      "Number of Stars: 5         \n",
      "Date of Review: Jan 15, 2019         \n",
      "Text of Review: 'I learn a lot from this awesome course by Andrew Ng. The content is very clear delivered. I have no prior knowledge about machine learning and I  still manage to understand and learn from the course.'\n",
      "\n",
      "Number of Stars: 5         \n",
      "Date of Review: Jan 15, 2019         \n",
      "Text of Review: 'The intuitions and insights behind the theory provided by Andrew are the most help part of this course.'\n",
      "\n",
      "Number of Stars: 5         \n",
      "Date of Review: Jan 15, 2019         \n",
      "Text of Review: '很好'\n",
      "\n",
      "Number of Stars: 5         \n",
      "Date of Review: Jan 15, 2019         \n",
      "Text of Review: 'Excellent course. Well taught '\n",
      "\n",
      "Number of Stars: 5         \n",
      "Date of Review: Jan 15, 2019         \n",
      "Text of Review: 'Course was well taught, and well paced. Covered each topic clearly and concisely, and provided places to further expand on later. Course was primarily mathematical, but also gives a lot of practical and implementation guidance as well. Programming assignments were interesting, and helped reinforce the concepts from lecture. Documentation for programming assignments could probably be made clearer, and can sometimes be difficult to figure out on your own, but the resources on the forums made up for this easily. Overall, felt like I definitely learned a lot from this course.'\n",
      "\n",
      "Number of Stars: 5         \n",
      "Date of Review: Jan 14, 2019         \n",
      "Text of Review: 'Extremely usefull'\n",
      "\n",
      "Number of Stars: 5         \n",
      "Date of Review: Jan 14, 2019         \n",
      "Text of Review: 'Highly instructive and engaging. Challenging though and one that requires discipline, but not priors in machine learning are required.'\n",
      "\n",
      "Number of Stars: 5         \n",
      "Date of Review: Jan 14, 2019         \n",
      "Text of Review: 'This course is a great start to ML, it covers almost every theoretical topic in Machine Learning and one will steal the smallest of time available when Prof. Andrew Ng is teaching you'\n",
      "\n",
      "Number of Stars: 5         \n",
      "Date of Review: Jan 14, 2019         \n",
      "Text of Review: 'Highly instructive and engaging. Challenging though and one that requires discipline, but not priors in machine learning are required.'\n",
      "\n",
      "Number of Stars: 5         \n",
      "Date of Review: Jan 14, 2019         \n",
      "Text of Review: 'This course is a great start to ML, it covers almost every theoretical topic in Machine Learning and one will steal the smallest of time available when Prof. Andrew Ng is teaching you'\n",
      "\n",
      "Number of Stars: 5         \n",
      "Date of Review: Jan 14, 2019         \n",
      "Text of Review: 'Very useful course. Concepts are explained clearly, and I feel like I learned a lot about Machine Learning'\n",
      "\n",
      "Number of Stars: 5         \n",
      "Date of Review: Jan 14, 2019         \n",
      "Text of Review: 'Very educative course, I like the programming exercise parts the most and Andrew's thank you message inspired me to more courses.'\n",
      "\n",
      "Number of Stars: 5         \n",
      "Date of Review: Jan 14, 2019         \n",
      "Text of Review: 'Best to start learning ML'\n",
      "\n",
      "Number of Stars: 5         \n",
      "Date of Review: Jan 14, 2019         \n",
      "Text of Review: 'Overall great experience!'\n",
      "\n",
      "Number of Stars: 5         \n",
      "Date of Review: Jan 14, 2019         \n",
      "Text of Review: 'Great course for beginners!!'\n",
      "\n",
      "Number of Stars: 5         \n",
      "Date of Review: Jan 14, 2019         \n",
      "Text of Review: 'Interesting and well-taught course that I hope and expect to gain a lot from also at my working place.'\n",
      "\n",
      "Number of Stars: 5         \n",
      "Date of Review: Jan 14, 2019         \n",
      "Text of Review: 'Nice course for people who want to learn some basic knowledge of machine learning or deep learning.'\n",
      "\n",
      "Number of Stars: 5         \n",
      "Date of Review: Jan 14, 2019         \n",
      "Text of Review: 'I definitely recommend this course for everyone who want to make an exponential change in the tech industry. Worth every penny taking this course.'\n",
      "\n"
     ]
    }
   ],
   "source": [
    "print(len(all_reviews))\n",
    "for i in range(20):\n",
    "    print(all_reviews[i])"
   ]
  },
  {
   "cell_type": "code",
   "execution_count": 107,
   "metadata": {},
   "outputs": [],
   "source": [
    "# Get other attributes of course \n",
    "def get_other_attrs(page_link):\n",
    "    #driver.get(page_link)\n",
    "    #Move all attributes here\n",
    "    pass\n",
    "\n",
    "about = driver.find_element_by_xpath(\"//*[@id='root']/div[1]/div/div[2]/div/div/span[1]/span[1]\").text\n",
    "score = driver.find_element_by_xpath(\"//*[@id='root']/div[1]/div/div[1]/div/div[2]/span\").text\n",
    "name_inst = driver.find_element_by_xpath(\"//*[@id='root']/div[1]/div/div[1]/div/h2\").text.split(\",\")\n",
    "name, inst = name_inst[0], name_inst[1]\n",
    "total_revs = driver.find_element_by_xpath(\"//*[@id='root']/div[1]/div/div[1]/div/div[2]/div[3]/div[2]/span\").text.split(\" \")[0]\n",
    "total_ratings = driver.find_element_by_xpath(\"//*[@id='root']/div[1]/div/div[1]/div/div[2]/div[2]/span\").text.split(\" \")[0]\n",
    "\n",
    "master_ng_course = Course(name=name, score=score, description=about, institution=inst, total_ratings=total_ratings, total_reviews=total_revs)\n",
    "\n",
    "for arev in all_reviews:\n",
    "    master_ng_course.add_review(arev)"
   ]
  },
  {
   "cell_type": "code",
   "execution_count": 108,
   "metadata": {},
   "outputs": [
    {
     "name": "stdout",
     "output_type": "stream",
     "text": [
      "Name: Machine Learning         \n",
      "Score: 4.9         \n",
      "Institution:  Stanford University         \n",
      "Description: 'Machine learning is the science of getting computers to act without being explicitly programmed. In the past decade, machine learning has given us\n",
      "self-driving cars, practical speech recognition, effective web search, and a vastly improved understanding of the human genome. Machine learning is so\n",
      "pervasive today that you probably use it dozens of times a day without knowing it. Many researchers also think it is the best way to make progress\n",
      "towards human-level AI. In this class, you will learn about the most effective machine learning techniques, and gain practice implementing them and\n",
      "getting them to work for yourself. More importantly, you'll learn about not only the theoretical underpinnings of learning, but also gain the ...\n",
      "VIEW ALL'         \n",
      "Total Ratings: 90,450         \n",
      "Total Reviews: 23,081         \n",
      "Number of Reviews Extracted: 110 \n",
      "\n"
     ]
    }
   ],
   "source": [
    "print(master_ng_course)"
   ]
  },
  {
   "cell_type": "markdown",
   "metadata": {},
   "source": [
    "## Trials with BeautifulSoup only\n",
    "______"
   ]
  },
  {
   "cell_type": "code",
   "execution_count": 3,
   "metadata": {},
   "outputs": [],
   "source": [
    "course = \"https://www.coursera.org/learn/machine-learning/reviews\"\n",
    "client = u_req(course)\n",
    "page = soup(client.read(), \"html.parser\")\n",
    "client.close()"
   ]
  },
  {
   "cell_type": "code",
   "execution_count": 4,
   "metadata": {},
   "outputs": [],
   "source": [
    "# Get all the the reviews from one page\n",
    "results = list(page.find_all(\"div\", attrs={\"class\":\"review\"}))"
   ]
  },
  {
   "cell_type": "code",
   "execution_count": 74,
   "metadata": {},
   "outputs": [],
   "source": [
    "# Iterate through results in one page and create list of review objects \n",
    "review_list = []\n",
    "\n",
    "for result in results:\n",
    "    rev_wrap = result.contents[0]\n",
    "    rev_text = rev_wrap.find_all(\"div\", attrs={\"class\":\"reviewText\"})[0].text\n",
    "    rev_date = rev_wrap.find_all(\"p\", attrs={\"class\":\"dateOfReview\"})[0].text\n",
    "\n",
    "    rev_stars_wrap = rev_wrap.find_all(\"label\")\n",
    "    rev_stars = 0\n",
    "    for tag in rev_stars_wrap:\n",
    "        if \"Filled Star\" in tag.text:\n",
    "            rev_stars += 1\n",
    "            \n",
    "    review_list.append(Review(rev_stars, rev_text, rev_date))"
   ]
  },
  {
   "cell_type": "code",
   "execution_count": 79,
   "metadata": {},
   "outputs": [
    {
     "data": {
      "text/plain": [
       "5"
      ]
     },
     "execution_count": 79,
     "metadata": {},
     "output_type": "execute_result"
    }
   ],
   "source": [
    "review_list[3].stars"
   ]
  },
  {
   "cell_type": "code",
   "execution_count": 54,
   "metadata": {},
   "outputs": [],
   "source": [
    "# Trials with one review\n",
    "first_review = results[0].contents[0]\n",
    "\n",
    "# <div class=reviewText_bunchofshit><div class=reviewText> Text here </div></div> \n",
    "first_text = list(first_review)[1].text # alternatively, first_review.find_all(\"div\", attrs={\"class\":\"reviewText\"})[0].text\n",
    "\n",
    "first_date = first_review.find_all(\"p\", attrs={\"class\":\"dateOfReview\"})[0].text\n",
    "\n",
    "# <div class=reviewText_bunchofshit><div class=Box_abunchofshit>\n",
    "# <div class=Star_abunchofmoreshit> <5 label tags representing each star, each has either \"Filled Star\" or just \"Star\"> \n",
    "# </div></div></div> \n",
    "first_stars_wrapper = list(list(first_review)[0]) # alternatively, first_review.find_all(\"label\")\n",
    "first_stars = 0\n",
    "\n",
    "for tag in first_stars_wrapper[0]:\n",
    "    if \"Filled Star\" in tag.text:\n",
    "        first_stars += 1\n",
    "        \n",
    "first_obj_review = Review(first_stars, first_text, first_date)"
   ]
  },
  {
   "cell_type": "code",
   "execution_count": 73,
   "metadata": {},
   "outputs": [
    {
     "data": {
      "text/plain": [
       "5"
      ]
     },
     "execution_count": 73,
     "metadata": {},
     "output_type": "execute_result"
    }
   ],
   "source": [
    "first_review.find_all(\"label\")\n",
    "\n"
   ]
  },
  {
   "cell_type": "markdown",
   "metadata": {},
   "source": [
    "# Trials to get multiple courses automatically\n",
    "---------------------------------------------------------------------------------------------------"
   ]
  },
  {
   "cell_type": "code",
   "execution_count": 155,
   "metadata": {},
   "outputs": [],
   "source": [
    "url = \"https://www.coursera.org/browse/data-science?facets=skillNameMultiTag%2CjobTitleMultiTag%2CdifficultyLevelTag%2Clanguages%2CentityTypeTag%3ACOURSE%2CpartnerMultiTag%2CcategoryMultiTag%3Adata-science%2CsubcategoryMultiTag&sortField=\"\n",
    "client = u_req(url)\n",
    "\n",
    "page = soup(client.read(), \"html.parser\")\n",
    "page = page\n",
    "client.close()\n"
   ]
  },
  {
   "cell_type": "code",
   "execution_count": 62,
   "metadata": {},
   "outputs": [],
   "source": [
    "# Find all results from the query\n",
    "results = page.find_all(\"section\") "
   ]
  },
  {
   "cell_type": "code",
   "execution_count": 159,
   "metadata": {
    "collapsed": true
   },
   "outputs": [
    {
     "name": "stdout",
     "output_type": "stream",
     "text": [
      "<span data-reactid=\"48\">Computer Science</span>\n"
     ]
    }
   ],
   "source": [
    "# i = 0\n",
    "# \n",
    "# # Section wrapper <section class=\"rc-DomainPage\">\n",
    "# res = list(results[0])\n",
    "# \n",
    "# # First div wrapper <div class=\"product-offerings-wrapper\">\n",
    "# res_first_div = res[2]\n",
    "# \n",
    "# # Second section wrapper <section class=\"rc-ProductOfferings\">\n",
    "# res_sect = res_first_div.section\n",
    "# \n",
    "# # Second div wrapper <div class=\"offerings-wrapper bt3-container body-container\">\n",
    "# # just_results = list(res_sect[1])\n",
    "# \n",
    "# res_sect1 = list(res_sect)[1]\n",
    "# \n",
    "# bro = list(res_sect1.descendants)\n",
    "# \n",
    "# print(res_sect1.find_all(\"a\"))\n",
    "\n",
    "results = list(page.find_all())\n",
    "\n",
    "# for tag in page.find_all(True):\n",
    "#     if \"Computer Science\" in tag:\n",
    "#         print(tag)\n",
    "#     # if tag.name == \"a\":\n",
    "#     #     print(tag)\n",
    "#     #     print()\n",
    "\n",
    "#print(len(list(res1.descendants)), len(list(res1.children)), len(list(res1.contents)))\n",
    "# new_results = list(res1.descendants)\n",
    "# \n",
    "# for res in just_results:\n",
    "#     print(\"Result number\", i)\n",
    "#     print(res)\n",
    "#     print()\n",
    "#     i += 1"
   ]
  }
 ],
 "metadata": {
  "kernelspec": {
   "display_name": "Python 3",
   "language": "python",
   "name": "python3"
  },
  "language_info": {
   "codemirror_mode": {
    "name": "ipython",
    "version": 3
   },
   "file_extension": ".py",
   "mimetype": "text/x-python",
   "name": "python",
   "nbconvert_exporter": "python",
   "pygments_lexer": "ipython3",
   "version": "3.6.5"
  }
 },
 "nbformat": 4,
 "nbformat_minor": 2
}
