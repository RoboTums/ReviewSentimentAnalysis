{
 "cells": [
  {
   "cell_type": "code",
   "execution_count": 39,
   "metadata": {},
   "outputs": [],
   "source": [
    " import requests \n",
    "   ...: from urllib.request import urlopen as uReq  \n",
    "   ...: import urllib.error  \n",
    "   ...: from bs4 import BeautifulSoup as soup \n",
    "   ...: import pandas as pd \n",
    "   ...: import re # regex \n",
    "   ...: import numpy as np  \n",
    "from selenium import webdriver\n",
    "from selenium.common.exceptions import ElementNotInteractableException"
   ]
  },
  {
   "cell_type": "markdown",
   "metadata": {},
   "source": [
    "### This is a place to test webscraping containers thats not our main files\n",
    "# Its meant to have some utility functions for quick testing around here\n"
   ]
  },
  {
   "cell_type": "code",
   "execution_count": 50,
   "metadata": {},
   "outputs": [],
   "source": [
    "def grabHTML(url): #grabs the soup of the html on the page.\n",
    "        uClient = uReq(url)\n",
    "        page_html = uClient.read()\n",
    "        uClient.close()\n",
    "        html = soup(page_html,'html.parser')\n",
    "        return html\n",
    "def expandQueryList(url):\n",
    "    driver = webdriver.Firefox()\n",
    "    driver.get(url)\n",
    "    try: \n",
    "        while driver.find_element_by_id('show-more-courses')!= None:\n",
    "            driver.find_elements_by_id('show-more-courses')[0].click()\n",
    "    except ElementNotInteractableException:\n",
    "        pass\n",
    "    grab(HTML)"
   ]
  },
  {
   "cell_type": "code",
   "execution_count": 51,
   "metadata": {},
   "outputs": [],
   "source": [
    "url = 'https://www.class-central.com/subject/cs'\n",
    "expandQueryList(url)\n"
   ]
  },
  {
   "cell_type": "code",
   "execution_count": 52,
   "metadata": {},
   "outputs": [],
   "source": [
    "yup=grabHTML('https://www.class-central.com/subject/cs?session=recent%2Congoing%2Cupcoming%2Cselfpaced')\n",
    "course = yup.findAll('a',{'class':'text--charcoal text-2 medium-up-text-1 block course-name'})\n"
   ]
  },
  {
   "cell_type": "code",
   "execution_count": 53,
   "metadata": {},
   "outputs": [],
   "source": [
    "courseList=[]\n",
    "for i in course:\n",
    "    url = 'https://www.class-central.com/' +i['href']\n",
    "    courseList.append(url)"
   ]
  },
  {
   "cell_type": "code",
   "execution_count": 56,
   "metadata": {},
   "outputs": [
    {
     "data": {
      "text/plain": [
       "50"
      ]
     },
     "execution_count": 56,
     "metadata": {},
     "output_type": "execute_result"
    }
   ],
   "source": [
    "courseList"
   ]
  },
  {
   "cell_type": "code",
   "execution_count": null,
   "metadata": {},
   "outputs": [],
   "source": []
  }
 ],
 "metadata": {
  "kernelspec": {
   "display_name": "Python 3",
   "language": "python",
   "name": "python3"
  },
  "language_info": {
   "codemirror_mode": {
    "name": "ipython",
    "version": 3
   },
   "file_extension": ".py",
   "mimetype": "text/x-python",
   "name": "python",
   "nbconvert_exporter": "python",
   "pygments_lexer": "ipython3",
   "version": "3.5.2"
  }
 },
 "nbformat": 4,
 "nbformat_minor": 2
}
