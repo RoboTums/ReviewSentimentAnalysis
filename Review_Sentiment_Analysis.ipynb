{
 "cells": [
  {
   "cell_type": "code",
   "execution_count": null,
   "metadata": {},
   "outputs": [],
   "source": [
    "import pandas as pd \n",
    "from os import listdir\n",
    "from os import path\n",
    "from os import walk"
   ]
  },
  {
   "cell_type": "code",
   "execution_count": null,
   "metadata": {},
   "outputs": [],
   "source": [
    "from vaderSentiment.vaderSentiment import SentimentIntensityAnalyzer\n",
    "vader = SentimentIntensityAnalyzer()"
   ]
  },
  {
   "cell_type": "code",
   "execution_count": null,
   "metadata": {},
   "outputs": [],
   "source": [
    "# Testing vaderSentiment\n",
    "def vader_analyzer(sentence, stars):\n",
    "    snt = vader.polarity_scores(sentence)\n",
    "    if snt['compound'] >= 0.05: \n",
    "        if stars < 3:\n",
    "            return f\"Negative, {snt['compound']}\"\n",
    "        return f\"Positive, {snt['compound']}\"\n",
    "    elif snt['compound'] <= - 0.05: \n",
    "        if stars > 3:\n",
    "            return f\"Positive, {snt['compound']}\"\n",
    "        return f\"Negative, {snt['compound']}\"\n",
    "    else: \n",
    "        return f\"Neutral, {snt['compound']}\"\n"
   ]
  },
  {
   "cell_type": "code",
   "execution_count": null,
   "metadata": {},
   "outputs": [],
   "source": [
    "from textblob import TextBlob"
   ]
  },
  {
   "cell_type": "code",
   "execution_count": null,
   "metadata": {},
   "outputs": [],
   "source": [
    "# Testing TextBlob\n",
    "def text_blob(sentence, stars):\n",
    "    snt = TextBlob(sentence).sentiment\n",
    "    if snt[0] > 0:\n",
    "        # Check with number of stars\n",
    "        if stars < 3 and snt[0] < 0.15:\n",
    "            return f\"Negative, {snt[0]:.4f}\"\n",
    "        return f\"Positive, {snt[0]:.4f}\"\n",
    "    elif snt[0] < 0:\n",
    "        # Check with number of stars\n",
    "        if stars > 3 and snt[0] > -0.15: \n",
    "            return f\"Positive, {snt[0]:.4f}\" \n",
    "        return f\"Negative, {snt[0]:.4f}\"\n",
    "    else:\n",
    "        return f\"Neutral, {snt[0]:.4f}\""
   ]
  },
  {
   "cell_type": "code",
   "execution_count": null,
   "metadata": {},
   "outputs": [],
   "source": [
    "# Method to test one review file  \n",
    "def test_review():\n",
    "    test_files = {\"Arts and Humanities\": \"Creative Writing: The Craft of Character- Wesleyan University-reviews.csv\",\n",
    "                  \"Data Science\": \"Big Data Modeling and Management Systems-University of California San Diego-reviews.csv\",\n",
    "                  \"Business\": \"Developing An Entrepreneurial Mindset: First Step Towards Success-Michigan State University-reviews.csv\",\n",
    "                  \"Social Sciences\": \"Public Policy Challenges of the 21st Century-University of Virginia-reviews.csv\"\n",
    "                 }\n",
    "    rev_df = pd.read_csv(test_files[\"Data Science\"])\n",
    "    revs = rev_df[\"Review Text\"]\n",
    "    \n",
    "    # Create empty list and then append sentiment values, its more efficient than adding one by one to a series\n",
    "    vadersent_list = []\n",
    "    textbsent_list = []\n",
    "    for i in range(len(revs)):\n",
    "        print(f\"Review is: '{revs.loc[i]}'\")\n",
    "        vadersent = vader_analyzer(str(revs.loc[i]), int(rev_df['Number of Stars'].loc[i]))\n",
    "        textbsent = text_blob(revs.loc[i], int(rev_df['Number of Stars'].loc[i]))\n",
    "        print(f\"Stars are: {rev_df['Number of Stars'].loc[i]}, \\nVaderSentiment: {vadersent} \\nTextBlob Sentiment: {textbsent}\")\n",
    "        vadersent_list.append(vadersent)\n",
    "        textbsent_list.append(textbsent)\n",
    "        print()\n",
    "    \n",
    "    vadersent_cols = pd.Series(vadersent_list)\n",
    "    textbsent_cols = pd.Series(textbsent_list)\n",
    "    \n",
    "    rev_df[\"VaderSentiment\"] = vadersent_cols\n",
    "    rev_df[\"TextBlobSentiment\"] = textbsent_cols\n",
    "    \n",
    "    #print(rev_df)\n",
    "    rev_df.to_csv(\"Data_Science_Test.csv\", index=False)\n",
    "    \n",
    "test_review()"
   ]
  },
  {
   "cell_type": "code",
   "execution_count": null,
   "metadata": {},
   "outputs": [],
   "source": [
    "# Main that calls all the analyzers to test\n",
    "def main(): \n",
    "    dir_path = \"~/Reviews/\"\n",
    "    \n",
    "    # Read in CSV files, iterate through all folders\n",
    "    for subdir, dirs, files in walk(dir_path):\n",
    "        for file in files:\n",
    "            filepath = path.join(subdir, file)\n",
    "            if filepath.endswith(\".csv\"):\n",
    "                print(\"Analyzing: \" + filepath)\n",
    "                rev_df = pd.read_csv(filepath)\n",
    "                revs = rev_df[\"Review Text\"]\n",
    "\n",
    "                # Create empty list and then append sentiment values, its more efficient than adding one by one to a series\n",
    "                vadersent_list = []\n",
    "                # textbsent_list = []\n",
    "                for i in range(len(revs)):\n",
    "                    # print(f\"Review is: '{revs.loc[i]}'\")\n",
    "                    vadersent = vader_analyzer(str(revs.loc[i]), int(rev_df['Number of Stars'].loc[i]))\n",
    "                    # textbsent = text_blob(revs.loc[i], int(rev_df['Number of Stars'].loc[i]))\n",
    "                    # print(f\"Stars are: {rev_df['Number of Stars'].loc[i]}, \\nVaderSentiment: {vadersent}\")\n",
    "                    vadersent_list.append(vadersent)\n",
    "                    # textbsent_list.append(textbsent)\n",
    "                    # print()\n",
    "\n",
    "                vadersent_cols = pd.Series(vadersent_list)\n",
    "                # textbsent_cols = pd.Series(textbsent_list)\n",
    "\n",
    "                rev_df[\"VaderSentiment\"] = vadersent_cols\n",
    "                # rev_df[\"TextBlobSentiment\"] = textbsent_cols\n",
    "\n",
    "                # print(rev_df)\n",
    "                rev_df.to_csv(filepath, index=False)"
   ]
  },
  {
   "cell_type": "code",
   "execution_count": null,
   "metadata": {},
   "outputs": [],
   "source": [
    "main()"
   ]
  }
 ],
 "metadata": {
  "kernelspec": {
   "display_name": "Python 3",
   "language": "python",
   "name": "python3"
  },
  "language_info": {
   "codemirror_mode": {
    "name": "ipython",
    "version": 3
   },
   "file_extension": ".py",
   "mimetype": "text/x-python",
   "name": "python",
   "nbconvert_exporter": "python",
   "pygments_lexer": "ipython3",
   "version": "3.6.5"
  }
 },
 "nbformat": 4,
 "nbformat_minor": 2
}
